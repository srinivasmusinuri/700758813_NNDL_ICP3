{
  "nbformat": 4,
  "nbformat_minor": 0,
  "metadata": {
    "colab": {
      "provenance": []
    },
    "kernelspec": {
      "name": "python3",
      "display_name": "Python 3"
    },
    "language_info": {
      "name": "python"
    }
  },
  "cells": [
    {
      "cell_type": "code",
      "execution_count": null,
      "metadata": {
        "id": "8OhZng4aI582"
      },
      "outputs": [],
      "source": [
        "# 1. Create a class Employee and then do the following\n",
        "   # • Create a data member to count the number of Employees\n",
        "   # • Create a constructor to initialize name, family, salary, department\n",
        "   # • Create a function to average salary\n",
        "   # • Create a Fulltime Employee class and it should inherit the properties of Employee class\n",
        "   # • Create the instances of Fulltime Employee class and Employee class and call their member functions.\n",
        "\n",
        "\n",
        "class Employee:\n",
        "    employees_count = 0\n",
        "\n",
        "    def __init__(self, name, family, salary, department):\n",
        "        self.name = name\n",
        "        self.family = family\n",
        "        self.salary = salary\n",
        "        self.department = department\n",
        "        Employee.employees_count += 1\n",
        "\n",
        "    @classmethod\n",
        "    def avg_salary(cls, employees):\n",
        "        total_sal = sum(employee.salary for employee in employees)\n",
        "        if len(employees) > 0:\n",
        "          return total_sal / len(employees)\n",
        "        else:\n",
        "          return 0"
      ]
    },
    {
      "cell_type": "code",
      "source": [
        "# • Create a Fulltime Employee class\n",
        "class FulltimeEmployee(Employee):\n",
        "    def __init__(self, name, family, salary, department):\n",
        "        super().__init__(name, family, salary, department)"
      ],
      "metadata": {
        "id": "AkLC33m3J7WT"
      },
      "execution_count": null,
      "outputs": []
    },
    {
      "cell_type": "code",
      "source": [
        "\n",
        "# Creating the instances for Employee class\n",
        "employee1 = Employee(\"srinivas\", \"musinuri\", 50000, \"HR\")\n",
        "employee2 = Employee(\"raj\", \"singh\", 60000, \"Finance\")\n",
        "employee3 = Employee(\"zakir\", \"khan\", 55000, \"IT\")"
      ],
      "metadata": {
        "id": "KfX0QhZNJ9v4"
      },
      "execution_count": null,
      "outputs": []
    },
    {
      "cell_type": "code",
      "source": [
        "# Creating the instances for FulltimeEmployee class\n",
        "fulltime_employee1 = FulltimeEmployee(\"Rakesh\", \"prana\", 70000, \"Marketing\")\n",
        "fulltime_employee2 = FulltimeEmployee(\"iqbal\", \"hussain\", 75000, \"Sales\")"
      ],
      "metadata": {
        "id": "LomvwwAlKB8G"
      },
      "execution_count": null,
      "outputs": []
    },
    {
      "cell_type": "code",
      "source": [
        "# Calling the respective member functions\n",
        "employees = [employee1, employee2, employee3, fulltime_employee1, fulltime_employee2]\n",
        "avg_salary = Employee.avg_salary(employees)\n",
        "\n",
        "print(f\"Employees Count: {Employee.employees_count}\")\n",
        "print(f\"Average salary: ${avg_salary:.2f}\")"
      ],
      "metadata": {
        "colab": {
          "base_uri": "https://localhost:8080/"
        },
        "id": "AJMkExcZKFgk",
        "outputId": "dbb8f872-cb12-41bc-8422-840807f6fda9"
      },
      "execution_count": null,
      "outputs": [
        {
          "output_type": "stream",
          "name": "stdout",
          "text": [
            "Employees Count: 5\n",
            "Average salary: $62000.00\n"
          ]
        }
      ]
    },
    {
      "cell_type": "code",
      "source": [
        "# 2. Numpy\n",
        "   # Using NumPy create random vector of size 20 having only float in the range 1-20.\n",
        "   # Then reshape the array to 4 by 5\n",
        "   # Then replace the max in each row by 0 (axis=1)\n",
        "   # (you can NOT implement it via for loop)"
      ],
      "metadata": {
        "id": "x3kdZp5wcuG_"
      },
      "execution_count": null,
      "outputs": []
    },
    {
      "cell_type": "code",
      "source": [
        "import numpy as np\n",
        "\n",
        "# Creating a random vector here\n",
        "random_vector = np.random.uniform(1, 20, 20)\n",
        "print(random_vector)"
      ],
      "metadata": {
        "colab": {
          "base_uri": "https://localhost:8080/"
        },
        "id": "WX7pot8qfis9",
        "outputId": "1c2a92f9-b7a3-48f8-d829-f341d7d0def2"
      },
      "execution_count": null,
      "outputs": [
        {
          "output_type": "stream",
          "name": "stdout",
          "text": [
            "[19.15961656 13.60842926 12.95407168  6.70125638  9.58354983  3.5971625\n",
            "  1.17503721 16.2196708  19.70490435  3.22582169 15.25245828  5.00318652\n",
            "  5.92580498 19.91145214  8.17013975 16.40998817 13.71456156  1.20455075\n",
            " 12.38913539 17.16994938]\n"
          ]
        }
      ]
    },
    {
      "cell_type": "code",
      "source": [
        "# Reshaping the generated array to 4 by 5\n",
        "reshape_array = random_vector.reshape(4, 5)\n",
        "print(reshape_array)"
      ],
      "metadata": {
        "colab": {
          "base_uri": "https://localhost:8080/"
        },
        "id": "VfGmiZbnftSJ",
        "outputId": "049f6441-b4c8-4943-9a43-2243dda32978"
      },
      "execution_count": null,
      "outputs": [
        {
          "output_type": "stream",
          "name": "stdout",
          "text": [
            "[[19.15961656 13.60842926 12.95407168  6.70125638  9.58354983]\n",
            " [ 3.5971625   1.17503721 16.2196708  19.70490435  3.22582169]\n",
            " [15.25245828  5.00318652  5.92580498 19.91145214  8.17013975]\n",
            " [16.40998817 13.71456156  1.20455075 12.38913539 17.16994938]]\n"
          ]
        }
      ]
    },
    {
      "cell_type": "code",
      "source": [
        "# Insteading of looping, we are getting the indices of the maximum values in each row of array\n",
        "\n",
        "indices_position = np.argmax(reshape_array, axis=1)\n",
        "print(indices_position)"
      ],
      "metadata": {
        "colab": {
          "base_uri": "https://localhost:8080/"
        },
        "id": "wolqpYcIifJp",
        "outputId": "67758694-df19-4ece-d25c-bf57750cbd2a"
      },
      "execution_count": null,
      "outputs": [
        {
          "output_type": "stream",
          "name": "stdout",
          "text": [
            "[0 3 3 4]\n"
          ]
        }
      ]
    },
    {
      "cell_type": "code",
      "source": [
        "# Replace the maximum values with 0\n",
        "# Using np.arrange function, we are generating an array of values from 0 to 3\n",
        "# Using advanced indexing, here we are combing the postion indices and our newly generated indices and assigning 0:\n",
        "\n",
        "reshape_array[np.arange(4), indices_position] = 0\n",
        "\n",
        "print(reshape_array)"
      ],
      "metadata": {
        "colab": {
          "base_uri": "https://localhost:8080/"
        },
        "id": "Yfe-oIsPi5DH",
        "outputId": "bb7dbdd8-5eff-46c7-d9a8-150ab27c3824"
      },
      "execution_count": null,
      "outputs": [
        {
          "output_type": "stream",
          "name": "stdout",
          "text": [
            "[[ 0.         13.60842926 12.95407168  6.70125638  9.58354983]\n",
            " [ 3.5971625   1.17503721 16.2196708   0.          3.22582169]\n",
            " [15.25245828  5.00318652  5.92580498  0.          8.17013975]\n",
            " [16.40998817 13.71456156  1.20455075 12.38913539  0.        ]]\n"
          ]
        }
      ]
    }
  ]
}